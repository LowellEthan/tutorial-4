{
  "cells": [
    {
      "cell_type": "raw",
      "metadata": {},
      "source": [
        "---\n",
        "title: \"Models\"\n",
        "format: html\n",
        "---"
      ],
      "id": "74219cac"
    },
    {
      "cell_type": "markdown",
      "metadata": {},
      "source": [
        "```{startup}\n",
        "library(tidybayes)\n",
        "library(tidyverse)\n",
        "library(brms)\n",
        "```"
      ],
      "id": "de29087b"
    }
  ],
  "metadata": {
    "kernelspec": {
      "display_name": "Python 3",
      "language": "python",
      "name": "python3"
    }
  },
  "nbformat": 4,
  "nbformat_minor": 5
}